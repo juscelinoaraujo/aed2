{
  "nbformat": 4,
  "nbformat_minor": 0,
  "metadata": {
    "colab": {
      "provenance": []
    },
    "kernelspec": {
      "name": "python3",
      "display_name": "Python 3"
    },
    "language_info": {
      "name": "python"
    }
  },
  "cells": [
    {
      "cell_type": "markdown",
      "source": [
        "# Algoritmos e Estruturas de Dados II - U1T1\n",
        "Aluno: Juscelino Pereira de Araújo\n",
        "\n",
        "### Introdução\n",
        "\n",
        "Este notebook implementa a solução de autocompletação de textos usando Árvores AVL, o que constitui o segundo trabalho da primeira unidade da disciplina de Algoritmos e Estruturas de Dados II. A solução foi implementada usando classes de Python previamente implementadas e disponibilizadas pelo professor. Além disso, o corpus utilizado foi uma tradução em português da Bíblia disponibilizada no sítio https://umsocorpo.com.br/downloads/biblia-sagrada-em-txt-versao-revista-e-corrigida/. A seguir, são descritos os passos seguidos para a construção da solução.\n",
        "\n",
        "### Pré-Processamento\n",
        "\n"
      ],
      "metadata": {
        "id": "08MVLOMK_3TT"
      }
    },
    {
      "cell_type": "markdown",
      "source": [
        "Inicialmente o arquivo txt utilizado é carregado na forma de String. Nesse caso, obtemos inicialmente a String `biblia_string`."
      ],
      "metadata": {
        "id": "DWvtg4_lggth"
      }
    },
    {
      "cell_type": "code",
      "source": [
        "biblia_arquivo = open(\"biblia-em-txt.txt\", \"r\")\n",
        "biblia_string = biblia_arquivo.read()\n",
        "biblia_arquivo.close()\n"
      ],
      "metadata": {
        "id": "txOeupf6UX6z",
        "outputId": "26ac8005-ad11-4787-caa9-99a1531801ed",
        "colab": {
          "base_uri": "https://localhost:8080/",
          "height": 176
        }
      },
      "execution_count": null,
      "outputs": [
        {
          "output_type": "error",
          "ename": "FileNotFoundError",
          "evalue": "[Errno 2] No such file or directory: 'biblia-em-txt.txt'",
          "traceback": [
            "\u001b[0;31m---------------------------------------------------------------------------\u001b[0m",
            "\u001b[0;31mFileNotFoundError\u001b[0m                         Traceback (most recent call last)",
            "\u001b[0;32m<ipython-input-1-2a22d6ae12e7>\u001b[0m in \u001b[0;36m<cell line: 1>\u001b[0;34m()\u001b[0m\n\u001b[0;32m----> 1\u001b[0;31m \u001b[0mbiblia_arquivo\u001b[0m \u001b[0;34m=\u001b[0m \u001b[0mopen\u001b[0m\u001b[0;34m(\u001b[0m\u001b[0;34m\"biblia-em-txt.txt\"\u001b[0m\u001b[0;34m,\u001b[0m \u001b[0;34m\"r\"\u001b[0m\u001b[0;34m)\u001b[0m\u001b[0;34m\u001b[0m\u001b[0;34m\u001b[0m\u001b[0m\n\u001b[0m\u001b[1;32m      2\u001b[0m \u001b[0mbiblia_string\u001b[0m \u001b[0;34m=\u001b[0m \u001b[0mbiblia_arquivo\u001b[0m\u001b[0;34m.\u001b[0m\u001b[0mread\u001b[0m\u001b[0;34m(\u001b[0m\u001b[0;34m)\u001b[0m\u001b[0;34m\u001b[0m\u001b[0;34m\u001b[0m\u001b[0m\n\u001b[1;32m      3\u001b[0m \u001b[0mbiblia_arquivo\u001b[0m\u001b[0;34m.\u001b[0m\u001b[0mclose\u001b[0m\u001b[0;34m(\u001b[0m\u001b[0;34m)\u001b[0m\u001b[0;34m\u001b[0m\u001b[0;34m\u001b[0m\u001b[0m\n",
            "\u001b[0;31mFileNotFoundError\u001b[0m: [Errno 2] No such file or directory: 'biblia-em-txt.txt'"
          ]
        }
      ]
    },
    {
      "cell_type": "markdown",
      "source": [
        "Em seguida, são removidos caracteres especiais, incluindo números e sinais de pontuação."
      ],
      "metadata": {
        "id": "C-keE5TXgtQQ"
      }
    },
    {
      "cell_type": "code",
      "source": [
        "caracteres_removiveis = \"0123456789,.;?[]{}'!@#$%&*()_^:\"\n",
        "for c in caracteres_removiveis:\n",
        "  biblia_string = biblia_string.replace(c, \"\")"
      ],
      "metadata": {
        "id": "CCUD-hYcg0WI"
      },
      "execution_count": null,
      "outputs": []
    },
    {
      "cell_type": "markdown",
      "source": [
        "O passo seguinte é a conversão de todas as letras para minúsculas."
      ],
      "metadata": {
        "id": "GXNjP4LqtI6U"
      }
    },
    {
      "cell_type": "code",
      "source": [
        "biblia_string = biblia_string.lower()"
      ],
      "metadata": {
        "id": "QPSlRIIgtPCI"
      },
      "execution_count": null,
      "outputs": []
    },
    {
      "cell_type": "markdown",
      "source": [
        "Além disso, letras (no caso do português somente as vogais) com acentuação tem seus acentos removidos."
      ],
      "metadata": {
        "id": "eXKJ81Avq4K1"
      }
    },
    {
      "cell_type": "code",
      "source": [
        "a_com_acento = \"áàãâ\"\n",
        "e_com_acento = \"éê\"\n",
        "o_com_acento = \"óõô\"\n",
        "for l in a_com_acento:\n",
        "  biblia_string = biblia_string.replace(l, \"a\")\n",
        "for l in e_com_acento:\n",
        "  biblia_string = biblia_string.replace(l, \"e\")\n",
        "for l in o_com_acento:\n",
        "  biblia_string = biblia_string.replace(l, \"o\")\n",
        "biblia_string = biblia_string.replace(\"í\", \"i\")\n",
        "biblia_string = biblia_string.replace(\"ú\", \"u\")\n",
        "biblia_string = biblia_string.replace(\"ç\", \"c\")"
      ],
      "metadata": {
        "id": "81yPhj6HrBYY"
      },
      "execution_count": null,
      "outputs": []
    },
    {
      "cell_type": "markdown",
      "source": [
        "Removidos os caracteres especiais e trocadas as letras com acentos, a string é dividida em palavras. A separação acontece por meio de espaços. Por isso, as quebras de linhas e os hífens são inicialmente convertidas em espaços para que a separação ocorra normalmente. Com isso, é criado o arquivo `biblia_lista`, que consiste em uma lista com as palavras obtidas da separação realizada."
      ],
      "metadata": {
        "id": "pkYX6uSahv-D"
      }
    },
    {
      "cell_type": "code",
      "source": [
        "biblia_string = biblia_string.replace(\"\\n\", \" \")\n",
        "biblia_string = biblia_string.replace(\"-\", \" \")\n",
        "biblia_lista = biblia_string.split(\" \")\n"
      ],
      "metadata": {
        "id": "Sv5_NlsSjzPp"
      },
      "execution_count": null,
      "outputs": []
    },
    {
      "cell_type": "markdown",
      "source": [
        "Como seria de se esperar um texto tão grande, muitas palavras são repetidas. O código executado a seguir remove as palavras repetidas. Isso é feito gerando uma estrutura de conjunto com os elementos da lista e depois gerando uma nova lista a partir desse conjunto. Convém lembrar que isso advém do fato de que em estruturas de tipo conjunto não há multiplicidade de elementos."
      ],
      "metadata": {
        "id": "FovEeMadombJ"
      }
    },
    {
      "cell_type": "code",
      "source": [
        "biblia_lista = list(set(biblia_lista))"
      ],
      "metadata": {
        "id": "3QtHh3wyo5Ii"
      },
      "execution_count": null,
      "outputs": []
    },
    {
      "cell_type": "markdown",
      "source": [
        "Algumas das palavras não são de interesse, como artigos, preposições e algumas conjunções. Elas são retiradas da lista."
      ],
      "metadata": {
        "id": "eB8tjiWRudpS"
      }
    },
    {
      "cell_type": "code",
      "source": [
        "palavras_removiveis = [\" \", \"o\", \"os\", \"a\", \"as\", \"um\", \"uma\", \"de\", \"do\", \"dos\", \"da\", \"das\", \"dum\", \"duma\", \"em\", \"no\", \"nos\", \"na\", \"nas\", \"para\", \"que\", \"mas\", \"e\", \"se\"]\n",
        "for p in palavras_removiveis:\n",
        "  if p in biblia_lista:\n",
        "    biblia_lista.remove(p)"
      ],
      "metadata": {
        "id": "X37yTPvUuq9q"
      },
      "execution_count": null,
      "outputs": []
    },
    {
      "cell_type": "markdown",
      "source": [
        "A lista de palavras é então ordenada, sendo armazenada na variável `biblia_lista_ordenada`:"
      ],
      "metadata": {
        "id": "vjJoEpDcypu9"
      }
    },
    {
      "cell_type": "code",
      "source": [
        "biblia_lista_ordenada = sorted(biblia_lista)"
      ],
      "metadata": {
        "id": "RpDoZKbIgP3J"
      },
      "execution_count": null,
      "outputs": []
    },
    {
      "cell_type": "markdown",
      "source": [
        "Já temos uma lista de palavras, o que funcionará como estrutura linear de busca para efeitos de comparção. Quanto à estrutura em árvore, na seção a seguir são descritas as classes previamente criadas e que seriam utilizadas aqui.\n",
        "\n",
        "### Árvores AVL\n",
        "\n",
        "A seguir estão as classes já desenvolvidas em Python que serão empregadas mais adiante. Mais detalhes poem ser encontrados no repositório do Professor Ivanovitch Silva, disponível [aqui](https://github.com/ivanovitchm/datastructure/blob/main/lessons/week_02/avl.ipynb).\n",
        "\n",
        "- `Node` (Nó)\n",
        "- `BST` (Árvore Binária de Busca)\n",
        "- `AVLNode` (Nó da Árvore AVL)\n",
        "- `AVLTree` (Árvore AVL)\n",
        "\n",
        "Node:\n"
      ],
      "metadata": {
        "id": "wdLmeLL6V5H2"
      }
    },
    {
      "cell_type": "code",
      "source": [
        "class Node:\n",
        "    \"\"\"\n",
        "    A class representing a node in a Binary Search Tree (BST).\n",
        "\n",
        "    Each node contains a value and references to its left and right children.\n",
        "    \"\"\"\n",
        "\n",
        "    def __init__(self, value):\n",
        "        \"\"\"\n",
        "        Initializes a Node with a given value.\n",
        "\n",
        "        Parameters:\n",
        "        - value: The value to be stored in the node.\n",
        "\n",
        "        Both left and right child references are initialized as None.\n",
        "        \"\"\"\n",
        "        self.value = value\n",
        "        self.left_child = None\n",
        "        self.right_child = None"
      ],
      "metadata": {
        "id": "3Bm57iDoJL8s"
      },
      "execution_count": null,
      "outputs": []
    },
    {
      "cell_type": "markdown",
      "source": [
        "BST:"
      ],
      "metadata": {
        "id": "Zuim8iurTfsW"
      }
    },
    {
      "cell_type": "code",
      "source": [
        "class BST:\n",
        "    \"\"\"\n",
        "    Represents a Binary Search Tree (BST).\n",
        "\n",
        "    Attributes:\n",
        "        root (Node or None): The root node of the tree. Initializes to None for an empty tree.\n",
        "    \"\"\"\n",
        "\n",
        "    def __init__(self):\n",
        "        \"\"\"Initializes an empty BST.\"\"\"\n",
        "        self.root = None\n",
        "\n",
        "    def add(self, value):\n",
        "        \"\"\"\n",
        "        Inserts a new value into the BST.\n",
        "\n",
        "        Args:\n",
        "            value: The value to be added to the tree.\n",
        "\n",
        "        If the tree is empty, the value becomes the root. Otherwise, the method uses\n",
        "        a recursive helper function to find the appropriate position to maintain the BST property.\n",
        "        \"\"\"\n",
        "        if self.root is None:\n",
        "            self.root = Node(value)\n",
        "        else:\n",
        "            self._add_recursive(self.root, value)\n",
        "\n",
        "    def _add_recursive(self, current_node, value):\n",
        "        \"\"\"\n",
        "        Recursively finds the correct position and inserts a value into the BST.\n",
        "\n",
        "        Args:\n",
        "            current_node (Node): The node to start the search for the insert position from.\n",
        "            value: The value to be added to the BST.\n",
        "\n",
        "        The method determines if the new value should be placed to the left or right of\n",
        "        the current node. If the target position is empty, the value is inserted.\n",
        "        Otherwise, the function calls itself recursively with the respective child node.\n",
        "        \"\"\"\n",
        "        if value <= current_node.value:\n",
        "            if current_node.left_child is None:\n",
        "                current_node.left_child = Node(value)\n",
        "            else:\n",
        "                self._add_recursive(current_node.left_child, value)\n",
        "        else:\n",
        "            if current_node.right_child is None:\n",
        "                current_node.right_child = Node(value)\n",
        "            else:\n",
        "                self._add_recursive(current_node.right_child, value)\n",
        "\n",
        "    def _contains(self, current_node, value):\n",
        "        \"\"\"\n",
        "        Recursively checks if the BST contains the specified value starting from a given node.\n",
        "\n",
        "        Args:\n",
        "            current_node (Node): The node to start the search from.\n",
        "            value: The value to search for in the BST.\n",
        "\n",
        "        Returns:\n",
        "            bool: True if the value exists in the subtree rooted at current_node, otherwise False.\n",
        "        \"\"\"\n",
        "        if current_node is None:\n",
        "            return False\n",
        "        if current_node.value == value:\n",
        "            return True\n",
        "        if value < current_node.value:\n",
        "            return self._contains(current_node.left_child, value)\n",
        "        return self._contains(current_node.right_child, value)\n",
        "\n",
        "    def contains(self, value):\n",
        "        \"\"\"\n",
        "        Checks if the BST contains the specified value.\n",
        "\n",
        "        Args:\n",
        "            value: The value to search for in the BST.\n",
        "\n",
        "        Returns:\n",
        "            bool: True if the BST contains the value, otherwise False.\n",
        "        \"\"\"\n",
        "        return self._contains(self.root, value)\n"
      ],
      "metadata": {
        "id": "OqWMmJOxTiQw"
      },
      "execution_count": null,
      "outputs": []
    },
    {
      "cell_type": "markdown",
      "source": [
        "AVLNode:"
      ],
      "metadata": {
        "id": "4j0r_RZ4Tk8B"
      }
    },
    {
      "cell_type": "code",
      "source": [
        "class AVLNode(Node):\n",
        "    \"\"\"\n",
        "    Represents a node in an AVL (Adelson-Velsky and Landis) tree,\n",
        "    which is a self-balancing binary search tree.\n",
        "\n",
        "    Attributes:\n",
        "        height (int): The height of the subtree rooted at this node,\n",
        "                      initializes to 1 when the node is created.\n",
        "        imbalance (int): The imbalance factor of this node, calculated\n",
        "                         as the difference between the heights of the left\n",
        "                         and right subtrees. Initializes to 0.\n",
        "\n",
        "    Inherits from:\n",
        "        Node: Inherits attributes and methods from the Node class.\n",
        "    \"\"\"\n",
        "\n",
        "    def __init__(self, value):\n",
        "        \"\"\"\n",
        "        Initializes an AVLNode with a given value.\n",
        "\n",
        "        Args:\n",
        "            value: The value to be stored in this node.\n",
        "        \"\"\"\n",
        "        super().__init__(value)\n",
        "        self.height = 1\n",
        "        self.imbalance = 0\n",
        "\n",
        "    def calculate_height_and_imbalance(self):\n",
        "        \"\"\"\n",
        "        Calculates the height and imbalance factor of this node based\n",
        "        on the heights of its left and right children.\n",
        "\n",
        "        This method assumes that the heights of the children nodes (if they exist)\n",
        "        are up-to-date.\n",
        "        \"\"\"\n",
        "        # Calculate the height of the left child subtree\n",
        "        left_height = 0\n",
        "        if self.left_child is not None:\n",
        "            left_height = self.left_child.height\n",
        "\n",
        "        # Calculate the height of the right child subtree\n",
        "        right_height = 0\n",
        "        if self.right_child is not None:\n",
        "            right_height = self.right_child.height\n",
        "\n",
        "        # Update the height of this node\n",
        "        self.height = 1 + max(left_height, right_height)\n",
        "\n",
        "        # Calculate and update the imbalance factor for this node\n",
        "        self.imbalance = left_height - right_height\n"
      ],
      "metadata": {
        "id": "OEQ7TbCDTnQR"
      },
      "execution_count": null,
      "outputs": []
    },
    {
      "cell_type": "markdown",
      "source": [
        "AVLTree:"
      ],
      "metadata": {
        "id": "aedZmJFpTpsI"
      }
    },
    {
      "cell_type": "code",
      "source": [
        "class AVLTree(BST):\n",
        "    \"\"\"\n",
        "    Represents an AVL (Adelson-Velsky and Landis) tree, a self-balancing binary search tree.\n",
        "    Inherits all attributes and methods from the BST class and overrides some to maintain the AVL balance property.\n",
        "\n",
        "    Attributes:\n",
        "        Inherits all attributes from the BST class.\n",
        "    \"\"\"\n",
        "\n",
        "    def __init__(self):\n",
        "        \"\"\"\n",
        "        Initializes an empty AVL Tree.\n",
        "        \"\"\"\n",
        "        super().__init__()\n",
        "\n",
        "    def add(self, value):\n",
        "        \"\"\"\n",
        "        Overrides the add method in the BST class to handle AVL Tree balancing.\n",
        "        \"\"\"\n",
        "        self.root = self._add_recursive(self.root, value)  # Note that self.root is updated here\n",
        "\n",
        "\n",
        "    def _add_recursive(self, current_node, value):\n",
        "        \"\"\"\n",
        "        Overrides the BST method to recursively find the correct position and insert a value into the AVL tree.\n",
        "        This method also ensures the tree remains balanced by updating node heights and performing rotations as needed.\n",
        "\n",
        "        Args:\n",
        "            current_node (AVLNode or Node or None): The node from which to start the search for the insert position.\n",
        "            value (Any): The value to be added to the AVL tree.\n",
        "\n",
        "        Returns:\n",
        "            AVLNode: The node that either gets inserted or the node that was already present at that position.\n",
        "\n",
        "        Notes:\n",
        "            1. The method first checks if the `current_node` is an instance of the base class `Node`.\n",
        "              If it is, the method casts it to `AVLNode` to ensure AVL properties are maintained. This is especially\n",
        "              useful if the first node added to the tree is of type `Node`; this ensures subsequent nodes will be of\n",
        "              type `AVLNode`.\n",
        "            2. The method also balances the tree by calling the `_balance` method if the imbalance factor\n",
        "              of a node reaches 2 or -2 after an insert operation.\n",
        "        \"\"\"\n",
        "\n",
        "        # If the current node is None, return a new AVLNode containing the value\n",
        "        if current_node is None:\n",
        "            return AVLNode(value)\n",
        "\n",
        "        # Check if current_node is of the base class Node and cast it to AVLNode if necessary\n",
        "        # This is necessary to not change the add() in the BST class.\n",
        "        # When the first node is added, the type of the root is Node, so we need to cast it\n",
        "        if isinstance(current_node, Node) and not isinstance(current_node, AVLNode):\n",
        "            current_node = AVLNode(current_node.value)\n",
        "            current_node.left_child = self.root.left_child\n",
        "            current_node.right_child = self.root.right_child\n",
        "            self.root = current_node\n",
        "\n",
        "        # Determine whether the value should be inserted to the left or right subtree\n",
        "        if value <= current_node.value:\n",
        "            current_node.left_child = self._add_recursive(current_node.left_child, value)\n",
        "        else:\n",
        "            current_node.right_child = self._add_recursive(current_node.right_child, value)\n",
        "\n",
        "        # Update the height and imbalance factor for the current node\n",
        "        current_node.calculate_height_and_imbalance()\n",
        "\n",
        "        # Check if tree balancing is needed and balance if necessary\n",
        "        if abs(current_node.imbalance) == 2:\n",
        "            return self._balance(current_node)\n",
        "\n",
        "        return current_node\n",
        "\n",
        "    def get_height(self):\n",
        "        \"\"\"\n",
        "        Retrieves the height of the AVL Tree.\n",
        "\n",
        "        Returns:\n",
        "            int: The height of the tree rooted at self.root. Returns 0 if the tree is empty.\n",
        "        \"\"\"\n",
        "        if self.root is None:\n",
        "            return 0\n",
        "        return self.root.height\n",
        "\n",
        "    def _rotate_left(self, node):\n",
        "        \"\"\"\n",
        "        Performs a left rotation on the given node and adjusts the height and imbalance attributes.\n",
        "\n",
        "        A left rotation is used to balance an AVL Tree when the right subtree of a node\n",
        "        becomes higher than the left subtree. The method updates the heights and imbalance\n",
        "        factors for the rotated nodes.\n",
        "\n",
        "        Args:\n",
        "            node (AVLNode): The node to be rotated.\n",
        "\n",
        "        Returns:\n",
        "            AVLNode: The new root node of the rotated subtree (the pivot).\n",
        "        \"\"\"\n",
        "\n",
        "        # Store the pivot (the root of the right subtree of 'node')\n",
        "        pivot = node.right_child\n",
        "\n",
        "        # Update the right child of 'node' to be the left child of the pivot\n",
        "        node.right_child = pivot.left_child\n",
        "\n",
        "        # Set the left child of the pivot to be the node\n",
        "        pivot.left_child = node\n",
        "\n",
        "        # Recalculate the height and imbalance factor for the rotated node\n",
        "        node.calculate_height_and_imbalance()\n",
        "\n",
        "        # Recalculate the height and imbalance factor for the pivot\n",
        "        pivot.calculate_height_and_imbalance()\n",
        "\n",
        "        # Return the pivot as the new root of this subtree\n",
        "        return pivot\n",
        "\n",
        "\n",
        "    def _rotate_right(self, node):\n",
        "        \"\"\"\n",
        "        Performs a right rotation on the given node and adjusts the height and imbalance attributes.\n",
        "\n",
        "        A right rotation is used to balance an AVL Tree when the left subtree of a node\n",
        "        becomes higher than the right subtree. This method updates the heights and imbalance\n",
        "        factors for the rotated nodes.\n",
        "\n",
        "        Args:\n",
        "            node (AVLNode): The node around which the rotation will be performed.\n",
        "\n",
        "        Returns:\n",
        "            AVLNode: The new root node of the rotated subtree (the pivot).\n",
        "        \"\"\"\n",
        "\n",
        "        # Store the pivot (the root of the left subtree of 'node')\n",
        "        pivot = node.left_child\n",
        "\n",
        "        # Update the left child of 'node' to be the right child of the pivot\n",
        "        node.left_child = pivot.right_child\n",
        "\n",
        "        # Set the right child of the pivot to be the node\n",
        "        pivot.right_child = node\n",
        "\n",
        "        # Recalculate the height and imbalance factor for the rotated node\n",
        "        node.calculate_height_and_imbalance()\n",
        "\n",
        "        # Recalculate the height and imbalance factor for the pivot\n",
        "        pivot.calculate_height_and_imbalance()\n",
        "\n",
        "        # Return the pivot as the new root of this subtree\n",
        "        return pivot\n",
        "\n",
        "    def _balance(self, node):\n",
        "      \"\"\"\n",
        "      Balances the subtree rooted at the given node by performing rotations as needed.\n",
        "\n",
        "      If the imbalance factor of the given node is 2 or -2, rotations are performed\n",
        "      to bring the subtree back into balance. This method also takes into account\n",
        "      the imbalance factors of the child nodes to decide which type of rotation is needed\n",
        "      (single or double).\n",
        "\n",
        "      Args:\n",
        "          node (AVLNode): The root node of the subtree that needs to be balanced.\n",
        "\n",
        "      Returns:\n",
        "          AVLNode: The new root node of the balanced subtree.\n",
        "\n",
        "      Note:\n",
        "          This method assumes that the height and imbalance factor of each node are up-to-date.\n",
        "      \"\"\"\n",
        "\n",
        "      # Case 1: Left subtree is higher than right subtree\n",
        "      if node.imbalance == 2:\n",
        "          pivot = node.left_child\n",
        "          # Single right rotation\n",
        "          if pivot.imbalance == 1:\n",
        "              return self._rotate_right(node)\n",
        "          # Double rotation: Left-Right\n",
        "          else:\n",
        "              node.left_child = self._rotate_left(pivot)\n",
        "              return self._rotate_right(node)\n",
        "      # Case 2: Right subtree is higher than left subtree\n",
        "      else:\n",
        "          pivot = node.right_child\n",
        "          # Single left rotation\n",
        "          if pivot.imbalance == -1:\n",
        "              return self._rotate_left(node)\n",
        "          # Double rotation: Right-Left\n",
        "          else:\n",
        "              node.right_child = self._rotate_right(pivot)\n",
        "              return self._rotate_left(node)\n"
      ],
      "metadata": {
        "id": "AHivhZF6Trqg"
      },
      "execution_count": null,
      "outputs": []
    },
    {
      "cell_type": "markdown",
      "source": [
        "\n",
        "### Função de Autocompletamento de Palavras\n",
        "\n",
        "Para realizar o autocompletamento das palavras"
      ],
      "metadata": {
        "id": "DRexkgCcB6mI"
      }
    },
    {
      "cell_type": "code",
      "source": [
        "def autocomplete_lista_ordenada(lista, palavra):\n",
        "  saida = []\n",
        "  for p in lista:\n",
        "    if p[0:len(palavra)] < palavra:\n",
        "      continue\n",
        "    elif p[0:len(palavra)] == palavra:\n",
        "      saida.append(p)\n",
        "    else:\n",
        "      break;\n",
        "  return saida"
      ],
      "metadata": {
        "id": "ECv791H4ad3C"
      },
      "execution_count": null,
      "outputs": []
    },
    {
      "cell_type": "code",
      "source": [
        "import time\n",
        "palavra = input(\"Prefixo a pesquisar: \")\n",
        "t_inicial_lista = time.time_ns()\n",
        "for p in autocomplete_lista_ordenada(biblia_lista_ordenada, palavra):\n",
        "  print(p)\n",
        "t_final_lista = time.time_ns()\n",
        "print(\"Usando lista ordenada: tempo de Execução de \",t_final_lista - t_inicial_lista, \" nanossegundos.\")"
      ],
      "metadata": {
        "id": "LDeYSKUtbetA",
        "colab": {
          "base_uri": "https://localhost:8080/"
        },
        "outputId": "583e9144-9e3e-479f-cc14-30a5fbecff1a"
      },
      "execution_count": null,
      "outputs": [
        {
          "output_type": "stream",
          "name": "stdout",
          "text": [
            "Prefixo a pesquisar: no\n",
            "noa\n",
            "noadias\n",
            "noba\n",
            "nobai\n",
            "nobe\n",
            "nobre\n",
            "nobres\n",
            "nocivas\n",
            "nocivos\n",
            "nodabe\n",
            "node\n",
            "nodoas\n",
            "noe\n",
            "noemi\n",
            "nofa\n",
            "nofegue\n",
            "noga\n",
            "nogueiras\n",
            "noite\n",
            "noites\n",
            "noiva\n",
            "noivo\n",
            "nojenta\n",
            "nojo\n",
            "nomades\n",
            "nome\n",
            "nomeada\n",
            "nomeado\n",
            "nomeados\n",
            "nomeia\n",
            "nomeie\n",
            "nomes\n",
            "nominalmente\n",
            "nona\n",
            "nono\n",
            "nora\n",
            "noras\n",
            "nordeste\n",
            "norma\n",
            "norte\n",
            "nossa\n",
            "nossas\n",
            "nosso\n",
            "nossos\n",
            "nota\n",
            "notai\n",
            "notar\n",
            "notaram\n",
            "notaras\n",
            "notaste\n",
            "notaveis\n",
            "notavel\n",
            "noteis\n",
            "noticia\n",
            "noticias\n",
            "noticieis\n",
            "notificado\n",
            "notificamos\n",
            "notificando\n",
            "notificar\n",
            "notificou\n",
            "notoria\n",
            "notorio\n",
            "notorios\n",
            "notou\n",
            "noturna\n",
            "noturnas\n",
            "noturno\n",
            "noturnos\n",
            "noutra\n",
            "noutras\n",
            "noutro\n",
            "nova\n",
            "novamente\n",
            "novas\n",
            "nove\n",
            "novecentos\n",
            "noventa\n",
            "novidade\n",
            "novidades\n",
            "novilha\n",
            "novilho\n",
            "novilhos\n",
            "novo\n",
            "novos\n",
            "nozes\n",
            "Usando lista ordenada: tempo de Execução de  31080496  nanossegundos.\n"
          ]
        }
      ]
    },
    {
      "cell_type": "code",
      "source": [
        "def autocomplete_no(no, palavra):\n",
        "  saida = []\n",
        "  if no != None:\n",
        "    inicio = no.value[0:len(palavra)]\n",
        "    if inicio >= palavra:\n",
        "      saida += autocomplete_no(no.left_child, palavra)\n",
        "    if inicio == palavra:\n",
        "      saida.append(no.value)\n",
        "    if inicio <= palavra:\n",
        "      saida += autocomplete_no(no.right_child, palavra)\n",
        "  return saida\n",
        "\n",
        "def autocomplete_arvore_AVL(arvore, palavra):\n",
        "  return sorted(autocomplete_no(arvore.root, palavra))"
      ],
      "metadata": {
        "id": "TE0n84ddcWd-"
      },
      "execution_count": null,
      "outputs": []
    },
    {
      "cell_type": "code",
      "source": [
        "biblia_arvore_AVL = AVLTree();\n",
        "for p in biblia_lista_ordenada:\n",
        "  biblia_arvore_AVL.add(p)\n",
        "t_inicial_arvore = time.time_ns()\n",
        "for p in autocomplete_arvore_AVL(biblia_arvore_AVL, palavra):\n",
        "  print(p)\n",
        "t_final_arvore = time.time_ns()\n",
        "print(\"Usando árvore AVL: tempo de Execução de \",t_final_arvore - t_inicial_arvore, \" nanossegundos.\")"
      ],
      "metadata": {
        "colab": {
          "base_uri": "https://localhost:8080/"
        },
        "id": "OEGZb03sd5Un",
        "outputId": "7a59d01b-c869-4c9b-c4cb-1a37c43b19a4"
      },
      "execution_count": null,
      "outputs": [
        {
          "output_type": "stream",
          "name": "stdout",
          "text": [
            "noa\n",
            "noadias\n",
            "noba\n",
            "nobai\n",
            "nobe\n",
            "nobre\n",
            "nobres\n",
            "nocivas\n",
            "nocivos\n",
            "nodabe\n",
            "node\n",
            "nodoas\n",
            "noe\n",
            "noemi\n",
            "nofa\n",
            "nofegue\n",
            "noga\n",
            "nogueiras\n",
            "noite\n",
            "noites\n",
            "noiva\n",
            "noivo\n",
            "nojenta\n",
            "nojo\n",
            "nomades\n",
            "nome\n",
            "nomeada\n",
            "nomeado\n",
            "nomeados\n",
            "nomeia\n",
            "nomeie\n",
            "nomes\n",
            "nominalmente\n",
            "nona\n",
            "nono\n",
            "nora\n",
            "noras\n",
            "nordeste\n",
            "norma\n",
            "norte\n",
            "nossa\n",
            "nossas\n",
            "nosso\n",
            "nossos\n",
            "nota\n",
            "notai\n",
            "notar\n",
            "notaram\n",
            "notaras\n",
            "notaste\n",
            "notaveis\n",
            "notavel\n",
            "noteis\n",
            "noticia\n",
            "noticias\n",
            "noticieis\n",
            "notificado\n",
            "notificamos\n",
            "notificando\n",
            "notificar\n",
            "notificou\n",
            "notoria\n",
            "notorio\n",
            "notorios\n",
            "notou\n",
            "noturna\n",
            "noturnas\n",
            "noturno\n",
            "noturnos\n",
            "noutra\n",
            "noutras\n",
            "noutro\n",
            "nova\n",
            "novamente\n",
            "novas\n",
            "nove\n",
            "novecentos\n",
            "noventa\n",
            "novidade\n",
            "novidades\n",
            "novilha\n",
            "novilho\n",
            "novilhos\n",
            "novo\n",
            "novos\n",
            "nozes\n",
            "Usando árvore AVL: tempo de Execução de  26329586  nanossegundos.\n"
          ]
        }
      ]
    }
  ]
}