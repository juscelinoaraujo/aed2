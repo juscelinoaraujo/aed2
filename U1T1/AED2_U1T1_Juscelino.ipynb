{
  "nbformat": 4,
  "nbformat_minor": 0,
  "metadata": {
    "colab": {
      "provenance": []
    },
    "kernelspec": {
      "name": "python3",
      "display_name": "Python 3"
    },
    "language_info": {
      "name": "python"
    }
  },
  "cells": [
    {
      "cell_type": "markdown",
      "source": [
        "# Algoritmos e Estruturas de Dados II - U1T1\n",
        "Aluno: Juscelino Pereira de Araújo\n",
        "\n",
        "### Introdução\n",
        "\n",
        "Este notebook implementa a solução de autocompletação de textos usando Árvores AVL, o que constitui o segundo trabalho da primeira unidade da disciplina de Algoritmos e Estruturas de Dados II. A solução foi implementada usando classes de Python previamente implementadas e disponibilizadas pelo professor. Além disso, o corpus utilizado foi uma tradução em português da Bíblia disponibilizada no sítio https://umsocorpo.com.br/downloads/biblia-sagrada-em-txt-versao-revista-e-corrigida/. A seguir, são descritos os passos seguidos para a construção da solução.\n",
        "\n",
        "### Pré-Processamento\n",
        "\n"
      ],
      "metadata": {
        "id": "08MVLOMK_3TT"
      }
    },
    {
      "cell_type": "markdown",
      "source": [
        "Inicialmente o arquivo txt utilizado é carregado na forma de String. Nesse caso, obtemos inicialmente a String `biblia_string`."
      ],
      "metadata": {
        "id": "DWvtg4_lggth"
      }
    },
    {
      "cell_type": "code",
      "source": [
        "import requests\n",
        "response = requests.get(\"https://raw.githubusercontent.com/juscelinoaraujo/aed2/main/U1T1/biblia-em-txt.txt\")"
      ],
      "metadata": {
        "id": "l1VrRXLJwQRe"
      },
      "execution_count": 56,
      "outputs": []
    },
    {
      "cell_type": "code",
      "source": [
        "print(response.text)\n",
        "biblia_string = response.text"
      ],
      "metadata": {
        "colab": {
          "base_uri": "https://localhost:8080/"
        },
        "id": "tEUDQcyZwQkJ",
        "outputId": "7f8bb28f-13a9-4e05-bb6f-2b748800d58d"
      },
      "execution_count": 57,
      "outputs": [
        {
          "output_type": "stream",
          "name": "stderr",
          "text": [
            "IOPub data rate exceeded.\n",
            "The notebook server will temporarily stop sending output\n",
            "to the client in order to avoid crashing it.\n",
            "To change this limit, set the config variable\n",
            "`--NotebookApp.iopub_data_rate_limit`.\n",
            "\n",
            "Current values:\n",
            "NotebookApp.iopub_data_rate_limit=1000000.0 (bytes/sec)\n",
            "NotebookApp.rate_limit_window=3.0 (secs)\n",
            "\n"
          ]
        }
      ]
    },
    {
      "cell_type": "markdown",
      "source": [
        "Em seguida, são removidos caracteres especiais, incluindo números e sinais de pontuação."
      ],
      "metadata": {
        "id": "C-keE5TXgtQQ"
      }
    },
    {
      "cell_type": "code",
      "source": [
        "caracteres_removiveis = \"0123456789,.;?[]{}'!@#$%&*()_^:\"\n",
        "for c in caracteres_removiveis:\n",
        "  biblia_string = biblia_string.replace(c, \"\")"
      ],
      "metadata": {
        "id": "CCUD-hYcg0WI"
      },
      "execution_count": 58,
      "outputs": []
    },
    {
      "cell_type": "markdown",
      "source": [
        "O passo seguinte é a conversão de todas as letras para minúsculas."
      ],
      "metadata": {
        "id": "GXNjP4LqtI6U"
      }
    },
    {
      "cell_type": "code",
      "source": [
        "biblia_string = biblia_string.lower()"
      ],
      "metadata": {
        "id": "QPSlRIIgtPCI"
      },
      "execution_count": 59,
      "outputs": []
    },
    {
      "cell_type": "markdown",
      "source": [
        "Removidos os caracteres especiais, a string é dividida em palavras. A separação acontece por meio de espaços. Por isso, as quebras de linhas e os hífens são inicialmente convertidas em espaços para que a separação ocorra normalmente. Com isso, é criado o arquivo `biblia_lista`, que consiste em uma lista com as palavras obtidas da separação realizada.\n",
        "\n",
        "\n"
      ],
      "metadata": {
        "id": "pkYX6uSahv-D"
      }
    },
    {
      "cell_type": "code",
      "source": [
        "biblia_string = biblia_string.replace(\"\\n\", \" \")\n",
        "biblia_string = biblia_string.replace(\"\\r\", \" \")\n",
        "biblia_string = biblia_string.replace(\"-\", \" \")\n",
        "biblia_lista = biblia_string.split(\" \")\n"
      ],
      "metadata": {
        "id": "Sv5_NlsSjzPp"
      },
      "execution_count": 60,
      "outputs": []
    },
    {
      "cell_type": "markdown",
      "source": [
        "Como seria de se esperar um texto tão grande, muitas palavras são repetidas. O código executado a seguir remove as palavras repetidas. Isso é feito gerando uma estrutura de conjunto com os elementos da lista e depois gerando uma nova lista a partir desse conjunto. Convém lembrar que isso advém do fato de que em estruturas de tipo conjunto não há multiplicidade de elementos."
      ],
      "metadata": {
        "id": "FovEeMadombJ"
      }
    },
    {
      "cell_type": "code",
      "source": [
        "biblia_lista = list(set(biblia_lista))"
      ],
      "metadata": {
        "id": "3QtHh3wyo5Ii"
      },
      "execution_count": 61,
      "outputs": []
    },
    {
      "cell_type": "markdown",
      "source": [
        "Algumas das palavras não são de interesse, como artigos, preposições e algumas conjunções. Elas são retiradas da lista."
      ],
      "metadata": {
        "id": "eB8tjiWRudpS"
      }
    },
    {
      "cell_type": "code",
      "source": [
        "palavras_removiveis = [\" \", \"o\", \"os\", \"a\", \"as\", \"um\", \"uma\", \"de\", \"do\", \"dos\", \"da\", \"das\", \"dum\", \"duma\", \"em\", \"no\", \"nos\", \"na\", \"nas\", \"para\", \"que\", \"mas\", \"e\", \"se\"]\n",
        "for p in palavras_removiveis:\n",
        "  if p in biblia_lista:\n",
        "    biblia_lista.remove(p)"
      ],
      "metadata": {
        "id": "X37yTPvUuq9q"
      },
      "execution_count": 62,
      "outputs": []
    },
    {
      "cell_type": "markdown",
      "source": [
        "Da lista são removidas as palavras repetidas. Ela é então ordenada, sendo armazenada na variável `biblia_lista_ordenada`:"
      ],
      "metadata": {
        "id": "vjJoEpDcypu9"
      }
    },
    {
      "cell_type": "code",
      "source": [
        "biblia_lista = list(set(biblia_lista))\n",
        "biblia_lista_ordenada = sorted(biblia_lista)"
      ],
      "metadata": {
        "id": "emDbHad5K4JY"
      },
      "execution_count": 63,
      "outputs": []
    },
    {
      "cell_type": "markdown",
      "source": [
        "Já temos uma lista de palavras, o que funcionará como estrutura linear de busca para efeitos de comparção. Quanto à estrutura em árvore, na seção a seguir são descritas as classes previamente criadas e que seriam utilizadas aqui.\n",
        "\n",
        "### Árvores AVL\n",
        "\n",
        "A seguir estão as classes já desenvolvidas em Python que serão empregadas mais adiante. Mais detalhes poem ser encontrados no repositório do Professor Ivanovitch Silva, disponível [aqui](https://github.com/ivanovitchm/datastructure/blob/main/lessons/week_02/avl.ipynb).\n",
        "\n",
        "- `Node` (Nó)\n",
        "- `BST` (Árvore Binária de Busca)\n",
        "- `AVLNode` (Nó da Árvore AVL)\n",
        "- `AVLTree` (Árvore AVL)\n",
        "\n",
        "Node:\n"
      ],
      "metadata": {
        "id": "wdLmeLL6V5H2"
      }
    },
    {
      "cell_type": "code",
      "source": [
        "class Node:\n",
        "    \"\"\"\n",
        "    A class representing a node in a Binary Search Tree (BST).\n",
        "\n",
        "    Each node contains a value and references to its left and right children.\n",
        "    \"\"\"\n",
        "\n",
        "    def __init__(self, value):\n",
        "        \"\"\"\n",
        "        Initializes a Node with a given value.\n",
        "\n",
        "        Parameters:\n",
        "        - value: The value to be stored in the node.\n",
        "\n",
        "        Both left and right child references are initialized as None.\n",
        "        \"\"\"\n",
        "        self.value = value\n",
        "        self.left_child = None\n",
        "        self.right_child = None"
      ],
      "metadata": {
        "id": "3Bm57iDoJL8s"
      },
      "execution_count": 64,
      "outputs": []
    },
    {
      "cell_type": "markdown",
      "source": [
        "BST:"
      ],
      "metadata": {
        "id": "Zuim8iurTfsW"
      }
    },
    {
      "cell_type": "code",
      "source": [
        "class BST:\n",
        "    \"\"\"\n",
        "    Represents a Binary Search Tree (BST).\n",
        "\n",
        "    Attributes:\n",
        "        root (Node or None): The root node of the tree. Initializes to None for an empty tree.\n",
        "    \"\"\"\n",
        "\n",
        "    def __init__(self):\n",
        "        \"\"\"Initializes an empty BST.\"\"\"\n",
        "        self.root = None\n",
        "\n",
        "    def add(self, value):\n",
        "        \"\"\"\n",
        "        Inserts a new value into the BST.\n",
        "\n",
        "        Args:\n",
        "            value: The value to be added to the tree.\n",
        "\n",
        "        If the tree is empty, the value becomes the root. Otherwise, the method uses\n",
        "        a recursive helper function to find the appropriate position to maintain the BST property.\n",
        "        \"\"\"\n",
        "        if self.root is None:\n",
        "            self.root = Node(value)\n",
        "        else:\n",
        "            self._add_recursive(self.root, value)\n",
        "\n",
        "    def _add_recursive(self, current_node, value):\n",
        "        \"\"\"\n",
        "        Recursively finds the correct position and inserts a value into the BST.\n",
        "\n",
        "        Args:\n",
        "            current_node (Node): The node to start the search for the insert position from.\n",
        "            value: The value to be added to the BST.\n",
        "\n",
        "        The method determines if the new value should be placed to the left or right of\n",
        "        the current node. If the target position is empty, the value is inserted.\n",
        "        Otherwise, the function calls itself recursively with the respective child node.\n",
        "        \"\"\"\n",
        "        if value <= current_node.value:\n",
        "            if current_node.left_child is None:\n",
        "                current_node.left_child = Node(value)\n",
        "            else:\n",
        "                self._add_recursive(current_node.left_child, value)\n",
        "        else:\n",
        "            if current_node.right_child is None:\n",
        "                current_node.right_child = Node(value)\n",
        "            else:\n",
        "                self._add_recursive(current_node.right_child, value)\n",
        "\n",
        "    def _contains(self, current_node, value):\n",
        "        \"\"\"\n",
        "        Recursively checks if the BST contains the specified value starting from a given node.\n",
        "\n",
        "        Args:\n",
        "            current_node (Node): The node to start the search from.\n",
        "            value: The value to search for in the BST.\n",
        "\n",
        "        Returns:\n",
        "            bool: True if the value exists in the subtree rooted at current_node, otherwise False.\n",
        "        \"\"\"\n",
        "        if current_node is None:\n",
        "            return False\n",
        "        if current_node.value == value:\n",
        "            return True\n",
        "        if value < current_node.value:\n",
        "            return self._contains(current_node.left_child, value)\n",
        "        return self._contains(current_node.right_child, value)\n",
        "\n",
        "    def contains(self, value):\n",
        "        \"\"\"\n",
        "        Checks if the BST contains the specified value.\n",
        "\n",
        "        Args:\n",
        "            value: The value to search for in the BST.\n",
        "\n",
        "        Returns:\n",
        "            bool: True if the BST contains the value, otherwise False.\n",
        "        \"\"\"\n",
        "        return self._contains(self.root, value)\n"
      ],
      "metadata": {
        "id": "OqWMmJOxTiQw"
      },
      "execution_count": 65,
      "outputs": []
    },
    {
      "cell_type": "markdown",
      "source": [
        "AVLNode:"
      ],
      "metadata": {
        "id": "4j0r_RZ4Tk8B"
      }
    },
    {
      "cell_type": "code",
      "source": [
        "class AVLNode(Node):\n",
        "    \"\"\"\n",
        "    Represents a node in an AVL (Adelson-Velsky and Landis) tree,\n",
        "    which is a self-balancing binary search tree.\n",
        "\n",
        "    Attributes:\n",
        "        height (int): The height of the subtree rooted at this node,\n",
        "                      initializes to 1 when the node is created.\n",
        "        imbalance (int): The imbalance factor of this node, calculated\n",
        "                         as the difference between the heights of the left\n",
        "                         and right subtrees. Initializes to 0.\n",
        "\n",
        "    Inherits from:\n",
        "        Node: Inherits attributes and methods from the Node class.\n",
        "    \"\"\"\n",
        "\n",
        "    def __init__(self, value):\n",
        "        \"\"\"\n",
        "        Initializes an AVLNode with a given value.\n",
        "\n",
        "        Args:\n",
        "            value: The value to be stored in this node.\n",
        "        \"\"\"\n",
        "        super().__init__(value)\n",
        "        self.height = 1\n",
        "        self.imbalance = 0\n",
        "\n",
        "    def calculate_height_and_imbalance(self):\n",
        "        \"\"\"\n",
        "        Calculates the height and imbalance factor of this node based\n",
        "        on the heights of its left and right children.\n",
        "\n",
        "        This method assumes that the heights of the children nodes (if they exist)\n",
        "        are up-to-date.\n",
        "        \"\"\"\n",
        "        # Calculate the height of the left child subtree\n",
        "        left_height = 0\n",
        "        if self.left_child is not None:\n",
        "            left_height = self.left_child.height\n",
        "\n",
        "        # Calculate the height of the right child subtree\n",
        "        right_height = 0\n",
        "        if self.right_child is not None:\n",
        "            right_height = self.right_child.height\n",
        "\n",
        "        # Update the height of this node\n",
        "        self.height = 1 + max(left_height, right_height)\n",
        "\n",
        "        # Calculate and update the imbalance factor for this node\n",
        "        self.imbalance = left_height - right_height\n"
      ],
      "metadata": {
        "id": "OEQ7TbCDTnQR"
      },
      "execution_count": 66,
      "outputs": []
    },
    {
      "cell_type": "markdown",
      "source": [
        "AVLTree:"
      ],
      "metadata": {
        "id": "aedZmJFpTpsI"
      }
    },
    {
      "cell_type": "code",
      "source": [
        "class AVLTree(BST):\n",
        "    \"\"\"\n",
        "    Represents an AVL (Adelson-Velsky and Landis) tree, a self-balancing binary search tree.\n",
        "    Inherits all attributes and methods from the BST class and overrides some to maintain the AVL balance property.\n",
        "\n",
        "    Attributes:\n",
        "        Inherits all attributes from the BST class.\n",
        "    \"\"\"\n",
        "\n",
        "    def __init__(self):\n",
        "        \"\"\"\n",
        "        Initializes an empty AVL Tree.\n",
        "        \"\"\"\n",
        "        super().__init__()\n",
        "\n",
        "    def add(self, value):\n",
        "        \"\"\"\n",
        "        Overrides the add method in the BST class to handle AVL Tree balancing.\n",
        "        \"\"\"\n",
        "        self.root = self._add_recursive(self.root, value)  # Note that self.root is updated here\n",
        "\n",
        "\n",
        "    def _add_recursive(self, current_node, value):\n",
        "        \"\"\"\n",
        "        Overrides the BST method to recursively find the correct position and insert a value into the AVL tree.\n",
        "        This method also ensures the tree remains balanced by updating node heights and performing rotations as needed.\n",
        "\n",
        "        Args:\n",
        "            current_node (AVLNode or Node or None): The node from which to start the search for the insert position.\n",
        "            value (Any): The value to be added to the AVL tree.\n",
        "\n",
        "        Returns:\n",
        "            AVLNode: The node that either gets inserted or the node that was already present at that position.\n",
        "\n",
        "        Notes:\n",
        "            1. The method first checks if the `current_node` is an instance of the base class `Node`.\n",
        "              If it is, the method casts it to `AVLNode` to ensure AVL properties are maintained. This is especially\n",
        "              useful if the first node added to the tree is of type `Node`; this ensures subsequent nodes will be of\n",
        "              type `AVLNode`.\n",
        "            2. The method also balances the tree by calling the `_balance` method if the imbalance factor\n",
        "              of a node reaches 2 or -2 after an insert operation.\n",
        "        \"\"\"\n",
        "\n",
        "        # If the current node is None, return a new AVLNode containing the value\n",
        "        if current_node is None:\n",
        "            return AVLNode(value)\n",
        "\n",
        "        # Check if current_node is of the base class Node and cast it to AVLNode if necessary\n",
        "        # This is necessary to not change the add() in the BST class.\n",
        "        # When the first node is added, the type of the root is Node, so we need to cast it\n",
        "        if isinstance(current_node, Node) and not isinstance(current_node, AVLNode):\n",
        "            current_node = AVLNode(current_node.value)\n",
        "            current_node.left_child = self.root.left_child\n",
        "            current_node.right_child = self.root.right_child\n",
        "            self.root = current_node\n",
        "\n",
        "        # Determine whether the value should be inserted to the left or right subtree\n",
        "        if value <= current_node.value:\n",
        "            current_node.left_child = self._add_recursive(current_node.left_child, value)\n",
        "        else:\n",
        "            current_node.right_child = self._add_recursive(current_node.right_child, value)\n",
        "\n",
        "        # Update the height and imbalance factor for the current node\n",
        "        current_node.calculate_height_and_imbalance()\n",
        "\n",
        "        # Check if tree balancing is needed and balance if necessary\n",
        "        if abs(current_node.imbalance) == 2:\n",
        "            return self._balance(current_node)\n",
        "\n",
        "        return current_node\n",
        "\n",
        "    def get_height(self):\n",
        "        \"\"\"\n",
        "        Retrieves the height of the AVL Tree.\n",
        "\n",
        "        Returns:\n",
        "            int: The height of the tree rooted at self.root. Returns 0 if the tree is empty.\n",
        "        \"\"\"\n",
        "        if self.root is None:\n",
        "            return 0\n",
        "        return self.root.height\n",
        "\n",
        "    def _rotate_left(self, node):\n",
        "        \"\"\"\n",
        "        Performs a left rotation on the given node and adjusts the height and imbalance attributes.\n",
        "\n",
        "        A left rotation is used to balance an AVL Tree when the right subtree of a node\n",
        "        becomes higher than the left subtree. The method updates the heights and imbalance\n",
        "        factors for the rotated nodes.\n",
        "\n",
        "        Args:\n",
        "            node (AVLNode): The node to be rotated.\n",
        "\n",
        "        Returns:\n",
        "            AVLNode: The new root node of the rotated subtree (the pivot).\n",
        "        \"\"\"\n",
        "\n",
        "        # Store the pivot (the root of the right subtree of 'node')\n",
        "        pivot = node.right_child\n",
        "\n",
        "        # Update the right child of 'node' to be the left child of the pivot\n",
        "        node.right_child = pivot.left_child\n",
        "\n",
        "        # Set the left child of the pivot to be the node\n",
        "        pivot.left_child = node\n",
        "\n",
        "        # Recalculate the height and imbalance factor for the rotated node\n",
        "        node.calculate_height_and_imbalance()\n",
        "\n",
        "        # Recalculate the height and imbalance factor for the pivot\n",
        "        pivot.calculate_height_and_imbalance()\n",
        "\n",
        "        # Return the pivot as the new root of this subtree\n",
        "        return pivot\n",
        "\n",
        "\n",
        "    def _rotate_right(self, node):\n",
        "        \"\"\"\n",
        "        Performs a right rotation on the given node and adjusts the height and imbalance attributes.\n",
        "\n",
        "        A right rotation is used to balance an AVL Tree when the left subtree of a node\n",
        "        becomes higher than the right subtree. This method updates the heights and imbalance\n",
        "        factors for the rotated nodes.\n",
        "\n",
        "        Args:\n",
        "            node (AVLNode): The node around which the rotation will be performed.\n",
        "\n",
        "        Returns:\n",
        "            AVLNode: The new root node of the rotated subtree (the pivot).\n",
        "        \"\"\"\n",
        "\n",
        "        # Store the pivot (the root of the left subtree of 'node')\n",
        "        pivot = node.left_child\n",
        "\n",
        "        # Update the left child of 'node' to be the right child of the pivot\n",
        "        node.left_child = pivot.right_child\n",
        "\n",
        "        # Set the right child of the pivot to be the node\n",
        "        pivot.right_child = node\n",
        "\n",
        "        # Recalculate the height and imbalance factor for the rotated node\n",
        "        node.calculate_height_and_imbalance()\n",
        "\n",
        "        # Recalculate the height and imbalance factor for the pivot\n",
        "        pivot.calculate_height_and_imbalance()\n",
        "\n",
        "        # Return the pivot as the new root of this subtree\n",
        "        return pivot\n",
        "\n",
        "    def _balance(self, node):\n",
        "      \"\"\"\n",
        "      Balances the subtree rooted at the given node by performing rotations as needed.\n",
        "\n",
        "      If the imbalance factor of the given node is 2 or -2, rotations are performed\n",
        "      to bring the subtree back into balance. This method also takes into account\n",
        "      the imbalance factors of the child nodes to decide which type of rotation is needed\n",
        "      (single or double).\n",
        "\n",
        "      Args:\n",
        "          node (AVLNode): The root node of the subtree that needs to be balanced.\n",
        "\n",
        "      Returns:\n",
        "          AVLNode: The new root node of the balanced subtree.\n",
        "\n",
        "      Note:\n",
        "          This method assumes that the height and imbalance factor of each node are up-to-date.\n",
        "      \"\"\"\n",
        "\n",
        "      # Case 1: Left subtree is higher than right subtree\n",
        "      if node.imbalance == 2:\n",
        "          pivot = node.left_child\n",
        "          # Single right rotation\n",
        "          if pivot.imbalance == 1:\n",
        "              return self._rotate_right(node)\n",
        "          # Double rotation: Left-Right\n",
        "          else:\n",
        "              node.left_child = self._rotate_left(pivot)\n",
        "              return self._rotate_right(node)\n",
        "      # Case 2: Right subtree is higher than left subtree\n",
        "      else:\n",
        "          pivot = node.right_child\n",
        "          # Single left rotation\n",
        "          if pivot.imbalance == -1:\n",
        "              return self._rotate_left(node)\n",
        "          # Double rotation: Right-Left\n",
        "          else:\n",
        "              node.right_child = self._rotate_right(pivot)\n",
        "              return self._rotate_left(node)\n"
      ],
      "metadata": {
        "id": "AHivhZF6Trqg"
      },
      "execution_count": 68,
      "outputs": []
    },
    {
      "cell_type": "markdown",
      "source": [
        "\n",
        "### Função de Autocompletamento de Palavras\n",
        "\n",
        "Para realizar o autocompletamento das palavras, são empregados dois métodos. O primeiro busca em `biblia_lista_ordenada` as palavras que iniciem extamanente com o prefixo escolhido. Esse método é definido na função a seguir:"
      ],
      "metadata": {
        "id": "DRexkgCcB6mI"
      }
    },
    {
      "cell_type": "code",
      "source": [
        "def autocomplete_lista_ordenada(lista, palavra):\n",
        "  saida = []\n",
        "  for p in lista:\n",
        "    if p[0:len(palavra)] < palavra:\n",
        "      continue\n",
        "    elif p[0:len(palavra)] == palavra:\n",
        "      saida.append(p)\n",
        "    else:\n",
        "      break;\n",
        "  return saida"
      ],
      "metadata": {
        "id": "ECv791H4ad3C"
      },
      "execution_count": 69,
      "outputs": []
    },
    {
      "cell_type": "markdown",
      "source": [
        "A outra maneira de fazer o autocompletamento baseia-se na conversão da lista ordenada de palavras em uma árvore AVL. Assim, o tempo de busca para o caso geral diminui."
      ],
      "metadata": {
        "id": "j4U1PKIruwDr"
      }
    },
    {
      "cell_type": "code",
      "source": [
        "def autocomplete_no(no, prefixo):\n",
        "  saida = []\n",
        "  if no != None:\n",
        "    inicio = no.value[0:len(prefixo)]\n",
        "    if inicio >= prefixo:\n",
        "      saida += autocomplete_no(no.left_child, prefixo)\n",
        "    if inicio == prefixo:\n",
        "      saida.append(no.value)\n",
        "    if inicio <= prefixo:\n",
        "      saida += autocomplete_no(no.right_child, prefixo)\n",
        "  return saida\n",
        "\n",
        "def autocomplete_arvore_AVL(arvore, prefixo):\n",
        "  return sorted(autocomplete_no(arvore.root, prefixo))\n",
        "\n",
        "biblia_arvore_AVL = AVLTree();\n",
        "for p in biblia_lista_ordenada:\n",
        "  biblia_arvore_AVL.add(p)"
      ],
      "metadata": {
        "id": "TE0n84ddcWd-"
      },
      "execution_count": 70,
      "outputs": []
    },
    {
      "cell_type": "markdown",
      "source": [
        "Para comparar ambos os métodos, ainda que de modo limitado, serão escolhidos vinte prefixos e comparados os tempos em que ambos os métodos encontram todas as palavras com esse mesmo prefixo."
      ],
      "metadata": {
        "id": "OIeAaK77y_YA"
      }
    },
    {
      "cell_type": "code",
      "source": [
        "prefixos_teste = [\"aba\", \"abs\", \"bala\", \"cer\", \"dar\", \"ef\", \"gala\", \"jav\", \"jo\", \"lamu\", \"ob\", \"ol\", \"pra\", \"quer\", \"ru\", \"sal\", \"tab\", \"val\", \"xen\", \"zel\"]"
      ],
      "metadata": {
        "id": "EUfNtz-8zrYX"
      },
      "execution_count": 72,
      "outputs": []
    },
    {
      "cell_type": "code",
      "source": [
        "import time\n",
        "resultados_lista = []\n",
        "resultados_arvore = []\n",
        "for p in prefixos_teste:\n",
        "  t_inicial = time.time_ns()\n",
        "  autocomplete_lista_ordenada(biblia_lista_ordenada, p)\n",
        "  t_final = time.time_ns()\n",
        "  resultados_lista.append(t_final - t_inicial)\n",
        "  t_inicial = time.time_ns()\n",
        "  autocomplete_arvore_AVL(biblia_arvore_AVL, p)\n",
        "  t_final = time.time_ns()\n",
        "  resultados_arvore.append(t_final - t_inicial)"
      ],
      "metadata": {
        "id": "wMtll-v43FDV"
      },
      "execution_count": 73,
      "outputs": []
    },
    {
      "cell_type": "code",
      "source": [
        "import matplotlib.pyplot as plt\n",
        "import numpy as np\n",
        "resultados_proporcao = [arvore/lista for arvore, lista in zip(resultados_arvore, resultados_lista)]\n",
        "\n",
        "x = np.array([1, 2, 3, 4, 5, 6, 7, 8, 9, 10, 11, 12, 13, 14, 15, 16, 17, 18, 19, 20])\n",
        "plt.plot(x, resultados_proporcao)\n",
        "plt.xlabel(\"Prefixos de teste\")\n",
        "plt.ylabel(\"Razão do tempo árvore/lista\")\n",
        "plt.title(\"Razão do tempo necessário de autocompletamento por busca em árvore para busca em lista\")\n",
        "plt.show()"
      ],
      "metadata": {
        "colab": {
          "base_uri": "https://localhost:8080/",
          "height": 472
        },
        "id": "VFAbWMuE5zfk",
        "outputId": "d911b575-0d66-47fa-bbb4-6ce20f6ced19"
      },
      "execution_count": 74,
      "outputs": [
        {
          "output_type": "display_data",
          "data": {
            "text/plain": [
              "<Figure size 640x480 with 1 Axes>"
            ],
            "image/png": "[encoded data removed]"
          },
          "metadata": {}
        }
      ]
    },
    {
      "cell_type": "markdown",
      "source": [
        "Pelo gráfico acima, é possível perceber que para quase todos os prefixos de teste, a busca em árvore foi bem mais rápida -- tempo de busca em árvore não ultrapassando dez por cento do tempo de busca em lista. A exceção são os dois primeiros prefixos: \"aba\" e \"abs\". Isso possivelmente advém do fato de que são palavras que estão logo no início da ordenação. Consequentemente, palavras com esse prefixo estão logo no começo da lista, facilitando seu encontro."
      ],
      "metadata": {
        "id": "_WV54t7j8Upf"
      }
    },
    {
      "cell_type": "code",
      "source": [
        "!pip install streamlit\n",
        "import streamlit as st\n",
        "st.header(\"Autocompletamento de Palavras da Bíblia\")\n",
        "st.write(\"A ferramenta a seguir busca palavras na Bíblia que comecem com o prefixo preenchido no campo abaixo.\")\n",
        "\n",
        "prefixo = st.text_input(\"Digite o prefixo que deseja pesquisar: \")\n",
        "\n",
        "if len(prefixo) != 0:\n",
        "  st.write(autocomplete_arvore_AVL(biblia_arvore_AVL, prefixo))"
      ],
      "metadata": {
        "id": "XYBQto-58npc",
        "colab": {
          "base_uri": "https://localhost:8080/"
        },
        "outputId": "f650f273-2e3b-40d7-e94e-4aafb566008a"
      },
      "execution_count": 75,
      "outputs": [
        {
          "output_type": "stream",
          "name": "stdout",
          "text": [
            "Requirement already satisfied: streamlit in /usr/local/lib/python3.10/dist-packages (1.32.2)\n",
            "Requirement already satisfied: altair<6,>=4.0 in /usr/local/lib/python3.10/dist-packages (from streamlit) (4.2.2)\n",
            "Requirement already satisfied: blinker<2,>=1.0.0 in /usr/lib/python3/dist-packages (from streamlit) (1.4)\n",
            "Requirement already satisfied: cachetools<6,>=4.0 in /usr/local/lib/python3.10/dist-packages (from streamlit) (5.3.3)\n",
            "Requirement already satisfied: click<9,>=7.0 in /usr/local/lib/python3.10/dist-packages (from streamlit) (8.1.7)\n",
            "Requirement already satisfied: numpy<2,>=1.19.3 in /usr/local/lib/python3.10/dist-packages (from streamlit) (1.25.2)\n",
            "Requirement already satisfied: packaging<24,>=16.8 in /usr/local/lib/python3.10/dist-packages (from streamlit) (23.2)\n",
            "Requirement already satisfied: pandas<3,>=1.3.0 in /usr/local/lib/python3.10/dist-packages (from streamlit) (1.5.3)\n",
            "Requirement already satisfied: pillow<11,>=7.1.0 in /usr/local/lib/python3.10/dist-packages (from streamlit) (9.4.0)\n",
            "Requirement already satisfied: protobuf<5,>=3.20 in /usr/local/lib/python3.10/dist-packages (from streamlit) (3.20.3)\n",
            "Requirement already satisfied: pyarrow>=7.0 in /usr/local/lib/python3.10/dist-packages (from streamlit) (14.0.2)\n",
            "Requirement already satisfied: requests<3,>=2.27 in /usr/local/lib/python3.10/dist-packages (from streamlit) (2.31.0)\n",
            "Requirement already satisfied: rich<14,>=10.14.0 in /usr/local/lib/python3.10/dist-packages (from streamlit) (13.7.1)\n",
            "Requirement already satisfied: tenacity<9,>=8.1.0 in /usr/local/lib/python3.10/dist-packages (from streamlit) (8.2.3)\n",
            "Requirement already satisfied: toml<2,>=0.10.1 in /usr/local/lib/python3.10/dist-packages (from streamlit) (0.10.2)\n",
            "Requirement already satisfied: typing-extensions<5,>=4.3.0 in /usr/local/lib/python3.10/dist-packages (from streamlit) (4.10.0)\n",
            "Requirement already satisfied: gitpython!=3.1.19,<4,>=3.0.7 in /usr/local/lib/python3.10/dist-packages (from streamlit) (3.1.42)\n",
            "Requirement already satisfied: pydeck<1,>=0.8.0b4 in /usr/local/lib/python3.10/dist-packages (from streamlit) (0.8.1b0)\n",
            "Requirement already satisfied: tornado<7,>=6.0.3 in /usr/local/lib/python3.10/dist-packages (from streamlit) (6.3.3)\n",
            "Requirement already satisfied: watchdog>=2.1.5 in /usr/local/lib/python3.10/dist-packages (from streamlit) (4.0.0)\n",
            "Requirement already satisfied: entrypoints in /usr/local/lib/python3.10/dist-packages (from altair<6,>=4.0->streamlit) (0.4)\n",
            "Requirement already satisfied: jinja2 in /usr/local/lib/python3.10/dist-packages (from altair<6,>=4.0->streamlit) (3.1.3)\n",
            "Requirement already satisfied: jsonschema>=3.0 in /usr/local/lib/python3.10/dist-packages (from altair<6,>=4.0->streamlit) (4.19.2)\n",
            "Requirement already satisfied: toolz in /usr/local/lib/python3.10/dist-packages (from altair<6,>=4.0->streamlit) (0.12.1)\n",
            "Requirement already satisfied: gitdb<5,>=4.0.1 in /usr/local/lib/python3.10/dist-packages (from gitpython!=3.1.19,<4,>=3.0.7->streamlit) (4.0.11)\n",
            "Requirement already satisfied: python-dateutil>=2.8.1 in /usr/local/lib/python3.10/dist-packages (from pandas<3,>=1.3.0->streamlit) (2.8.2)\n",
            "Requirement already satisfied: pytz>=2020.1 in /usr/local/lib/python3.10/dist-packages (from pandas<3,>=1.3.0->streamlit) (2023.4)\n",
            "Requirement already satisfied: charset-normalizer<4,>=2 in /usr/local/lib/python3.10/dist-packages (from requests<3,>=2.27->streamlit) (3.3.2)\n",
            "Requirement already satisfied: idna<4,>=2.5 in /usr/local/lib/python3.10/dist-packages (from requests<3,>=2.27->streamlit) (3.6)\n",
            "Requirement already satisfied: urllib3<3,>=1.21.1 in /usr/local/lib/python3.10/dist-packages (from requests<3,>=2.27->streamlit) (2.0.7)\n",
            "Requirement already satisfied: certifi>=2017.4.17 in /usr/local/lib/python3.10/dist-packages (from requests<3,>=2.27->streamlit) (2024.2.2)\n",
            "Requirement already satisfied: markdown-it-py>=2.2.0 in /usr/local/lib/python3.10/dist-packages (from rich<14,>=10.14.0->streamlit) (3.0.0)\n",
            "Requirement already satisfied: pygments<3.0.0,>=2.13.0 in /usr/local/lib/python3.10/dist-packages (from rich<14,>=10.14.0->streamlit) (2.16.1)\n",
            "Requirement already satisfied: smmap<6,>=3.0.1 in /usr/local/lib/python3.10/dist-packages (from gitdb<5,>=4.0.1->gitpython!=3.1.19,<4,>=3.0.7->streamlit) (5.0.1)\n",
            "Requirement already satisfied: MarkupSafe>=2.0 in /usr/local/lib/python3.10/dist-packages (from jinja2->altair<6,>=4.0->streamlit) (2.1.5)\n",
            "Requirement already satisfied: attrs>=22.2.0 in /usr/local/lib/python3.10/dist-packages (from jsonschema>=3.0->altair<6,>=4.0->streamlit) (23.2.0)\n",
            "Requirement already satisfied: jsonschema-specifications>=2023.03.6 in /usr/local/lib/python3.10/dist-packages (from jsonschema>=3.0->altair<6,>=4.0->streamlit) (2023.12.1)\n",
            "Requirement already satisfied: referencing>=0.28.4 in /usr/local/lib/python3.10/dist-packages (from jsonschema>=3.0->altair<6,>=4.0->streamlit) (0.34.0)\n",
            "Requirement already satisfied: rpds-py>=0.7.1 in /usr/local/lib/python3.10/dist-packages (from jsonschema>=3.0->altair<6,>=4.0->streamlit) (0.18.0)\n",
            "Requirement already satisfied: mdurl~=0.1 in /usr/local/lib/python3.10/dist-packages (from markdown-it-py>=2.2.0->rich<14,>=10.14.0->streamlit) (0.1.2)\n",
            "Requirement already satisfied: six>=1.5 in /usr/local/lib/python3.10/dist-packages (from python-dateutil>=2.8.1->pandas<3,>=1.3.0->streamlit) (1.16.0)\n"
          ]
        }
      ]
    }
  ]
}
