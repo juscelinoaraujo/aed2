{
  "nbformat": 4,
  "nbformat_minor": 0,
  "metadata": {
    "colab": {
      "provenance": []
    },
    "kernelspec": {
      "name": "python3",
      "display_name": "Python 3"
    },
    "language_info": {
      "name": "python"
    }
  },
  "cells": [
    {
      "cell_type": "markdown",
      "source": [
        "# Algoritmos e Estruturas de Dados II - U1T2\n",
        "Aluno: Juscelino Pereira de Araújo\n",
        "\n",
        "### Introdução\n",
        "\n",
        "Este notebook implementa a solução de autocompletação de textos usando Árvores AVL, o que constitui o segundo trabalho da primeira unidade da disciplina de Algoritmos e Estruturas de Dados II. A solução foi implementada usando classes de Python previamente implementadas e disponibilizadas pelo professor. Além disso, o corpus utilizado foi uma tradução em português da Bíblia disponibilizada no sítio https://umsocorpo.com.br/downloads/biblia-sagrada-em-txt-versao-revista-e-corrigida/. A seguir, são descritos os passos seguidos para a construção da solução.\n",
        "\n",
        "### Pré-Processamento\n",
        "\n"
      ],
      "metadata": {
        "id": "08MVLOMK_3TT"
      }
    },
    {
      "cell_type": "markdown",
      "source": [
        "Inicialmente o arquivo txt utilizado é carregado na forma de String. Nesse caso, obtemos inicialmente a String `biblia_string`."
      ],
      "metadata": {
        "id": "DWvtg4_lggth"
      }
    },
    {
      "cell_type": "code",
      "source": [
        "biblia_arquivo = open(\"biblia-em-txt.txt\", \"r\")\n",
        "biblia_string = biblia_arquivo.read()\n",
        "biblia_arquivo.close()\n"
      ],
      "metadata": {
        "id": "txOeupf6UX6z"
      },
      "execution_count": 47,
      "outputs": []
    },
    {
      "cell_type": "markdown",
      "source": [
        "Em seguida, são removidos caracteres especiais, incluindo números e sinais de pontuação."
      ],
      "metadata": {
        "id": "C-keE5TXgtQQ"
      }
    },
    {
      "cell_type": "code",
      "source": [
        "caracteres_removiveis = \"0123456789,.;?[]{}'!@#$%&*()_^:\"\n",
        "for c in caracteres_removiveis:\n",
        "  biblia_string = biblia_string.replace(c, \"\")"
      ],
      "metadata": {
        "id": "CCUD-hYcg0WI"
      },
      "execution_count": 62,
      "outputs": []
    },
    {
      "cell_type": "markdown",
      "source": [
        "O passo seguinte é a conversão de todas as letras para minúsculas."
      ],
      "metadata": {
        "id": "GXNjP4LqtI6U"
      }
    },
    {
      "cell_type": "code",
      "source": [
        "biblia_string = biblia_string.lower()"
      ],
      "metadata": {
        "id": "QPSlRIIgtPCI"
      },
      "execution_count": 63,
      "outputs": []
    },
    {
      "cell_type": "markdown",
      "source": [
        "Além disso, letras (no caso do português somente as vogais) com acentuação tem seus acentos removidos."
      ],
      "metadata": {
        "id": "eXKJ81Avq4K1"
      }
    },
    {
      "cell_type": "code",
      "source": [
        "a_com_acento = \"áàãâ\"\n",
        "e_com_acento = \"éê\"\n",
        "o_com_acento = \"óõô\"\n",
        "for l in a_com_acento:\n",
        "  biblia_string = biblia_string.replace(l, \"a\")\n",
        "for l in e_com_acento:\n",
        "  biblia_string = biblia_string.replace(l, \"e\")\n",
        "for l in o_com_acento:\n",
        "  biblia_string = biblia_string.replace(l, \"o\")\n",
        "biblia_string = biblia_string.replace(\"í\", \"i\")\n",
        "biblia_string = biblia_string.replace(\"ú\", \"u\")\n",
        "biblia_string = biblia_string.replace(\"ç\", \"c\")"
      ],
      "metadata": {
        "id": "81yPhj6HrBYY"
      },
      "execution_count": 64,
      "outputs": []
    },
    {
      "cell_type": "markdown",
      "source": [
        "Removidos os caracteres especiais e trocadas as letras com acentos, a string é dividida em palavras. A separação acontece por meio de espaços. Por isso, as quebras de linhas e os hífens são inicialmente convertidas em espaços para que a separação ocorra normalmente. Com isso, é criado o arquivo `biblia_lista`, que consiste em uma lista com as palavras obtidas da separação realizada."
      ],
      "metadata": {
        "id": "pkYX6uSahv-D"
      }
    },
    {
      "cell_type": "code",
      "source": [
        "biblia_string = biblia_string.replace(\"\\n\", \" \")\n",
        "biblia_string = biblia_string.replace(\"-\", \" \")\n",
        "biblia_lista = biblia_string.split(\" \")\n",
        "for i in range(100):\n",
        "  print(biblia_lista[i])\n"
      ],
      "metadata": {
        "id": "Sv5_NlsSjzPp"
      },
      "execution_count": null,
      "outputs": []
    },
    {
      "cell_type": "markdown",
      "source": [
        "Como seria de se esperar um texto tão grande, muitas palavras são repetidas. O código executado a seguir remove as palavras repetidas. Isso é feito gerando uma estrutura de conjunto com os elementos da lista e depois gerando uma nova lista a partir desse conjunto. Convém lembrar que isso advém do fato de que em estruturas de tipo conjunto não há multiplicidade de elementos."
      ],
      "metadata": {
        "id": "FovEeMadombJ"
      }
    },
    {
      "cell_type": "code",
      "source": [
        "biblia_lista = list(set(biblia_lista))\n",
        "for i in range(500):\n",
        "  print(biblia_lista[i])"
      ],
      "metadata": {
        "id": "3QtHh3wyo5Ii"
      },
      "execution_count": null,
      "outputs": []
    },
    {
      "cell_type": "markdown",
      "source": [
        "Algumas das palavras não são de interesse, como artigos, preposições e algumas conjunções. Elas são retiradas da lista."
      ],
      "metadata": {
        "id": "eB8tjiWRudpS"
      }
    },
    {
      "cell_type": "code",
      "source": [
        "palavras_removiveis = [\" \", \"o\", \"os\", \"a\", \"as\", \"um\", \"uma\", \"de\", \"do\", \"dos\", \"da\", \"das\", \"dum\", \"duma\", \"em\", \"no\", \"nos\", \"na\", \"nas\", \"para\", \"que\", \"mas\", \"e\", \"se\"]\n",
        "for p in palavras_removiveis:\n",
        "  if p in biblia_lista:\n",
        "    biblia_lista.remove(p)\n",
        "for i in range(500):\n",
        "  print(biblia_lista[i])"
      ],
      "metadata": {
        "id": "X37yTPvUuq9q"
      },
      "execution_count": null,
      "outputs": []
    },
    {
      "cell_type": "markdown",
      "source": [
        "A lista de palavras é então ordenada, sendo armazenada na variável `biblia_lista_ordenada`:"
      ],
      "metadata": {
        "id": "vjJoEpDcypu9"
      }
    },
    {
      "cell_type": "code",
      "source": [
        "biblia_lista_ordenada = sorted(biblia_lista)\n",
        "print(len(biblia_lista_ordenada))\n",
        "for i in range(500):\n",
        "  print(i, biblia_lista_ordenada[i])"
      ],
      "metadata": {
        "id": "RpDoZKbIgP3J"
      },
      "execution_count": null,
      "outputs": []
    },
    {
      "cell_type": "markdown",
      "source": [
        "Já temos uma lista de palavras, o que funcionará como estrutura linear de busca para efeitos de comparção. Quanto à estrutura em árvore, na seção a seguir são descritas as classes previamente criadas e que seriam utilizadas aqui.\n",
        "\n",
        "### Árvores AVL\n",
        "\n"
      ],
      "metadata": {
        "id": "wdLmeLL6V5H2"
      }
    },
    {
      "cell_type": "markdown",
      "source": [],
      "metadata": {
        "id": "DRexkgCcB6mI"
      }
    }
  ]
}