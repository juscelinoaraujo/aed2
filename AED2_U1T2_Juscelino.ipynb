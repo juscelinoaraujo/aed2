{
  "nbformat": 4,
  "nbformat_minor": 0,
  "metadata": {
    "colab": {
      "provenance": []
    },
    "kernelspec": {
      "name": "python3",
      "display_name": "Python 3"
    },
    "language_info": {
      "name": "python"
    }
  },
  "cells": [
    {
      "cell_type": "markdown",
      "source": [
        "# Algoritmos e Estruturas de Dados II - U1T2\n",
        "Aluno: Juscelino Pereira de Araújo\n",
        "\n",
        "### Introdução\n",
        "\n",
        "Este notebook implementa a solução de autocompletação de textos usando Árvores AVL, o que constitui o segundo trabalho da primeira unidade da disciplina de Algoritmos e Estruturas de Dados II. A solução foi implementada usando classes de Python previamente implementadas e disponibilizadas pelo professor. Além disso, o corpus utilizado foi uma tradução em português da Bíblia disponibilizada no sítio https://umsocorpo.com.br/downloads/biblia-sagrada-em-txt-versao-revista-e-corrigida/. A seguir, são descritos os passos seguidos para a construção da solução.\n",
        "\n",
        "### Pré-Processamento\n",
        "\n"
      ],
      "metadata": {
        "id": "08MVLOMK_3TT"
      }
    },
    {
      "cell_type": "markdown",
      "source": [
        "Inicialmente o arquivo txt utilizado é carregado na forma de String. Nesse caso, obtemos inicialmente a String `biblia_string`."
      ],
      "metadata": {
        "id": "DWvtg4_lggth"
      }
    },
    {
      "cell_type": "code",
      "source": [
        "biblia_arquivo = open(\"biblia-em-txt.txt\", \"r\")\n",
        "biblia_string = biblia_arquivo.read()\n",
        "biblia_arquivo.close()\n"
      ],
      "metadata": {
        "id": "txOeupf6UX6z"
      },
      "execution_count": 5,
      "outputs": []
    },
    {
      "cell_type": "markdown",
      "source": [
        "Em seguida, são removidos caracteres especiais, incluindo números e sinais de pontuação."
      ],
      "metadata": {
        "id": "C-keE5TXgtQQ"
      }
    },
    {
      "cell_type": "code",
      "source": [
        "caracteres = \"0123456789,.;:\"\n",
        "for i in caracteres:\n",
        "  biblia_string.replace(i, \"\")"
      ],
      "metadata": {
        "id": "CCUD-hYcg0WI"
      },
      "execution_count": 7,
      "outputs": []
    },
    {
      "cell_type": "markdown",
      "source": [
        "Removidos os caracteres especiais, a string é dividida em palavras. A separação acontece por meio de espaços. Por isso, as quebras de linhas são inicialmente convertidas em espaços para que a separação ocorra normalmente."
      ],
      "metadata": {
        "id": "pkYX6uSahv-D"
      }
    },
    {
      "cell_type": "code",
      "source": [
        "biblia_lista = sorted(biblia_lista)"
      ],
      "metadata": {
        "id": "RpDoZKbIgP3J"
      },
      "execution_count": null,
      "outputs": []
    },
    {
      "cell_type": "markdown",
      "source": [],
      "metadata": {
        "id": "DRexkgCcB6mI"
      }
    }
  ]
}